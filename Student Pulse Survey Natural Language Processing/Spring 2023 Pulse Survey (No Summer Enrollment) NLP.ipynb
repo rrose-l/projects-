{
 "cells": [
  {
   "cell_type": "code",
   "execution_count": 80,
   "id": "426ab1be",
   "metadata": {},
   "outputs": [],
   "source": [
    "import numpy as np\n",
    "import pandas as pd\n",
    "import matplotlib.pyplot as plt\n",
    "import sys\n",
    "import os\n",
    "import gensim\n",
    "from gensim.models import Word2Vec\n",
    "pd.set_option(\"display.max_column\", None)\n",
    "pd.set_option(\"display.max_colwidth\", None)\n",
    "\n",
    "import re"
   ]
  },
  {
   "cell_type": "code",
   "execution_count": 81,
   "id": "cbc7d097",
   "metadata": {},
   "outputs": [],
   "source": [
    "from nltk.tokenize import sent_tokenize, word_tokenize\n",
    "from sklearn.model_selection import train_test_split"
   ]
  },
  {
   "cell_type": "code",
   "execution_count": 82,
   "id": "2c0b051e",
   "metadata": {},
   "outputs": [],
   "source": [
    "survey_file = pd.read_csv(\"Spring PS Responses.csv\")"
   ]
  },
  {
   "cell_type": "code",
   "execution_count": 83,
   "id": "392ab4bc",
   "metadata": {},
   "outputs": [],
   "source": [
    "NO_SUMMER_PLAN_THEMES = {\n",
    "    \"Work/Internship/Studying abroad/Research\" : 1,\n",
    "    \"Want to be at home/with family\" : 2, \n",
    "    \"Graduating/Graduated\" : 3, \n",
    "    \"No housing/Not in Berkeley/No transportation/Expensive\" : 4,\n",
    "    \"Not sure/Other\" : 5\n",
    "}"
   ]
  },
  {
   "cell_type": "code",
   "execution_count": 122,
   "id": "155a97c9",
   "metadata": {},
   "outputs": [
    {
     "data": {
      "text/html": [
       "<div>\n",
       "<style scoped>\n",
       "    .dataframe tbody tr th:only-of-type {\n",
       "        vertical-align: middle;\n",
       "    }\n",
       "\n",
       "    .dataframe tbody tr th {\n",
       "        vertical-align: top;\n",
       "    }\n",
       "\n",
       "    .dataframe thead th {\n",
       "        text-align: right;\n",
       "    }\n",
       "</style>\n",
       "<table border=\"1\" class=\"dataframe\">\n",
       "  <thead>\n",
       "    <tr style=\"text-align: right;\">\n",
       "      <th></th>\n",
       "      <th>SUMMER_NOENR_6_TEXT</th>\n",
       "      <th>UngradGradCd</th>\n",
       "      <th>0</th>\n",
       "    </tr>\n",
       "  </thead>\n",
       "  <tbody>\n",
       "    <tr>\n",
       "      <th>0</th>\n",
       "      <td>You guy's it's so crazy expensive are you kidding?</td>\n",
       "      <td>U</td>\n",
       "      <td>0</td>\n",
       "    </tr>\n",
       "    <tr>\n",
       "      <th>1</th>\n",
       "      <td>would rather fulfill breadths at another institution</td>\n",
       "      <td>U</td>\n",
       "      <td>1</td>\n",
       "    </tr>\n",
       "    <tr>\n",
       "      <th>2</th>\n",
       "      <td>Would rather do research or internship since those are not offer during the semester</td>\n",
       "      <td>U</td>\n",
       "      <td>2</td>\n",
       "    </tr>\n",
       "    <tr>\n",
       "      <th>3</th>\n",
       "      <td>Would prefer in person class instead of web classes</td>\n",
       "      <td>U</td>\n",
       "      <td>3</td>\n",
       "    </tr>\n",
       "    <tr>\n",
       "      <th>4</th>\n",
       "      <td>Working/Internship</td>\n",
       "      <td>G</td>\n",
       "      <td>4</td>\n",
       "    </tr>\n",
       "  </tbody>\n",
       "</table>\n",
       "</div>"
      ],
      "text/plain": [
       "                                                                    SUMMER_NOENR_6_TEXT  \\\n",
       "0                                    You guy's it's so crazy expensive are you kidding?   \n",
       "1                                 would rather fulfill breadths at another institution    \n",
       "2  Would rather do research or internship since those are not offer during the semester   \n",
       "3                                   Would prefer in person class instead of web classes   \n",
       "4                                                                    Working/Internship   \n",
       "\n",
       "  UngradGradCd  0  \n",
       "0            U  0  \n",
       "1            U  1  \n",
       "2            U  2  \n",
       "3            U  3  \n",
       "4            G  4  "
      ]
     },
     "execution_count": 122,
     "metadata": {},
     "output_type": "execute_result"
    }
   ],
   "source": [
    "responses = survey_file.loc[:, ['SUMMER_NOENR_6_TEXT', 'UngradGradCd']].dropna()\n",
    "responses = pd.concat([responses, pd.DataFrame(range(len(responses)))], axis = 1)\n",
    "responses.to_excel('~$responses.xlsx')\n",
    "responses.head(5)"
   ]
  },
  {
   "cell_type": "code",
   "execution_count": 123,
   "id": "02e82b26",
   "metadata": {},
   "outputs": [],
   "source": [
    "training_data = pd.read_excel('responses_labeled.xlsx')\n",
    "training_data = training_data.sample(frac=0.15)\n",
    "labeled_data = training_data.to_excel('labeled_data.xlsx')"
   ]
  },
  {
   "cell_type": "code",
   "execution_count": 112,
   "id": "1cc1264b-d665-41cb-9b0b-d970d48faab8",
   "metadata": {},
   "outputs": [
    {
     "data": {
      "text/html": [
       "<div>\n",
       "<style scoped>\n",
       "    .dataframe tbody tr th:only-of-type {\n",
       "        vertical-align: middle;\n",
       "    }\n",
       "\n",
       "    .dataframe tbody tr th {\n",
       "        vertical-align: top;\n",
       "    }\n",
       "\n",
       "    .dataframe thead th {\n",
       "        text-align: right;\n",
       "    }\n",
       "</style>\n",
       "<table border=\"1\" class=\"dataframe\">\n",
       "  <thead>\n",
       "    <tr style=\"text-align: right;\">\n",
       "      <th></th>\n",
       "      <th>Unnamed: 0</th>\n",
       "      <th>SUMMER_NOENR_6_TEXT</th>\n",
       "      <th>UngradGradCd</th>\n",
       "      <th>Label</th>\n",
       "    </tr>\n",
       "  </thead>\n",
       "  <tbody>\n",
       "    <tr>\n",
       "      <th>236</th>\n",
       "      <td>236</td>\n",
       "      <td>Graduating in May</td>\n",
       "      <td>G</td>\n",
       "      <td>3</td>\n",
       "    </tr>\n",
       "    <tr>\n",
       "      <th>182</th>\n",
       "      <td>182</td>\n",
       "      <td>I don't want to be away from my family in the summer</td>\n",
       "      <td>U</td>\n",
       "      <td>2</td>\n",
       "    </tr>\n",
       "    <tr>\n",
       "      <th>51</th>\n",
       "      <td>51</td>\n",
       "      <td>Too busy with internships</td>\n",
       "      <td>G</td>\n",
       "      <td>1</td>\n",
       "    </tr>\n",
       "    <tr>\n",
       "      <th>1</th>\n",
       "      <td>1</td>\n",
       "      <td>would rather fulfill breadths at another institution</td>\n",
       "      <td>U</td>\n",
       "      <td>5</td>\n",
       "    </tr>\n",
       "    <tr>\n",
       "      <th>246</th>\n",
       "      <td>246</td>\n",
       "      <td>Graduating</td>\n",
       "      <td>U</td>\n",
       "      <td>3</td>\n",
       "    </tr>\n",
       "  </tbody>\n",
       "</table>\n",
       "</div>"
      ],
      "text/plain": [
       "     Unnamed: 0                                    SUMMER_NOENR_6_TEXT  \\\n",
       "236         236                                      Graduating in May   \n",
       "182         182   I don't want to be away from my family in the summer   \n",
       "51           51                              Too busy with internships   \n",
       "1             1  would rather fulfill breadths at another institution    \n",
       "246         246                                             Graduating   \n",
       "\n",
       "    UngradGradCd  Label  \n",
       "236            G      3  \n",
       "182            U      2  \n",
       "51             G      1  \n",
       "1              U      5  \n",
       "246            U      3  "
      ]
     },
     "execution_count": 112,
     "metadata": {},
     "output_type": "execute_result"
    }
   ],
   "source": [
    "training_data.head(5)"
   ]
  },
  {
   "cell_type": "code",
   "execution_count": 113,
   "id": "5cefed88",
   "metadata": {},
   "outputs": [
    {
     "data": {
      "text/html": [
       "<div>\n",
       "<style scoped>\n",
       "    .dataframe tbody tr th:only-of-type {\n",
       "        vertical-align: middle;\n",
       "    }\n",
       "\n",
       "    .dataframe tbody tr th {\n",
       "        vertical-align: top;\n",
       "    }\n",
       "\n",
       "    .dataframe thead th {\n",
       "        text-align: right;\n",
       "    }\n",
       "</style>\n",
       "<table border=\"1\" class=\"dataframe\">\n",
       "  <thead>\n",
       "    <tr style=\"text-align: right;\">\n",
       "      <th></th>\n",
       "      <th>Unnamed: 0</th>\n",
       "      <th>SUMMER_NOENR_6_TEXT</th>\n",
       "      <th>UngradGradCd</th>\n",
       "      <th>Label</th>\n",
       "    </tr>\n",
       "  </thead>\n",
       "  <tbody>\n",
       "    <tr>\n",
       "      <th>0</th>\n",
       "      <td>236</td>\n",
       "      <td>Graduating in May</td>\n",
       "      <td>G</td>\n",
       "      <td>3</td>\n",
       "    </tr>\n",
       "    <tr>\n",
       "      <th>1</th>\n",
       "      <td>182</td>\n",
       "      <td>I don't want to be away from my family in the summer</td>\n",
       "      <td>U</td>\n",
       "      <td>2</td>\n",
       "    </tr>\n",
       "    <tr>\n",
       "      <th>2</th>\n",
       "      <td>51</td>\n",
       "      <td>Too busy with internships</td>\n",
       "      <td>G</td>\n",
       "      <td>1</td>\n",
       "    </tr>\n",
       "    <tr>\n",
       "      <th>3</th>\n",
       "      <td>1</td>\n",
       "      <td>would rather fulfill breadths at another institution</td>\n",
       "      <td>U</td>\n",
       "      <td>5</td>\n",
       "    </tr>\n",
       "    <tr>\n",
       "      <th>4</th>\n",
       "      <td>246</td>\n",
       "      <td>Graduating</td>\n",
       "      <td>U</td>\n",
       "      <td>3</td>\n",
       "    </tr>\n",
       "  </tbody>\n",
       "</table>\n",
       "</div>"
      ],
      "text/plain": [
       "   Unnamed: 0                                    SUMMER_NOENR_6_TEXT  \\\n",
       "0         236                                      Graduating in May   \n",
       "1         182   I don't want to be away from my family in the summer   \n",
       "2          51                              Too busy with internships   \n",
       "3           1  would rather fulfill breadths at another institution    \n",
       "4         246                                             Graduating   \n",
       "\n",
       "  UngradGradCd  Label  \n",
       "0            G      3  \n",
       "1            U      2  \n",
       "2            G      1  \n",
       "3            U      5  \n",
       "4            U      3  "
      ]
     },
     "execution_count": 113,
     "metadata": {},
     "output_type": "execute_result"
    }
   ],
   "source": [
    "labeled_data = pd.read_excel('labeled_data.xlsx').loc[:,['Unnamed: 0', 'SUMMER_NOENR_6_TEXT', 'UngradGradCd', 'Label']]\n",
    "unlabeled_data = responses.loc[responses[0].apply(lambda x: x not in list(labeled_data['Unnamed: 0']))]\n",
    "labeled_data.head(5)"
   ]
  },
  {
   "cell_type": "code",
   "execution_count": 114,
   "id": "9349693f",
   "metadata": {},
   "outputs": [
    {
     "name": "stderr",
     "output_type": "stream",
     "text": [
      "/var/folders/4p/hk2kpwld0sd7079v5yqmhzv00000gn/T/ipykernel_36803/2753562587.py:5: SettingWithCopyWarning: \n",
      "A value is trying to be set on a copy of a slice from a DataFrame.\n",
      "Try using .loc[row_indexer,col_indexer] = value instead\n",
      "\n",
      "See the caveats in the documentation: https://pandas.pydata.org/pandas-docs/stable/user_guide/indexing.html#returning-a-view-versus-a-copy\n",
      "  unlabeled_data['SUMMER_NOENR_6_TEXT'] = unlabeled_data['SUMMER_NOENR_6_TEXT'].apply(lambda x: gensim.utils.simple_preprocess(x))\n"
     ]
    }
   ],
   "source": [
    "labeled_data['SUMMER_NOENR_6_TEXT'] = labeled_data['SUMMER_NOENR_6_TEXT'].apply(lambda x: gensim.utils.simple_preprocess(x))\n",
    "labeled_data = labeled_data.reset_index(drop=True)\n",
    "labeled_data\n",
    "\n",
    "unlabeled_data['SUMMER_NOENR_6_TEXT'] = unlabeled_data['SUMMER_NOENR_6_TEXT'].apply(lambda x: gensim.utils.simple_preprocess(x))\n",
    "unlabeled_data = unlabeled_data.reset_index(drop=True)\n"
   ]
  },
  {
   "cell_type": "code",
   "execution_count": 115,
   "id": "560940a9",
   "metadata": {},
   "outputs": [],
   "source": [
    "X_train, X_test, y_train, y_test = train_test_split(labeled_data[\"SUMMER_NOENR_6_TEXT\"], \n",
    "                                                    labeled_data[\"Label\"], test_size=0.20)\n",
    "\n"
   ]
  },
  {
   "cell_type": "code",
   "execution_count": 116,
   "id": "d140c181",
   "metadata": {},
   "outputs": [],
   "source": [
    "w2v_model = gensim.models.Word2Vec(X_train,\n",
    "                                   vector_size=100,\n",
    "                                   window=5,\n",
    "                                   min_count=2)"
   ]
  },
  {
   "cell_type": "code",
   "execution_count": 117,
   "id": "c68c812a",
   "metadata": {},
   "outputs": [],
   "source": [
    "words = w2v_model.wv.index_to_key"
   ]
  },
  {
   "cell_type": "code",
   "execution_count": 118,
   "id": "5f5039d2",
   "metadata": {},
   "outputs": [],
   "source": [
    "X_train_vect_avg = []\n",
    "for v in [np.array([w2v_model.wv[i] for i in ls if i in words], dtype=object)\n",
    "                         for ls in X_train]:\n",
    "    if v.size:\n",
    "        X_train_vect_avg.append(v.mean(axis=0))\n",
    "    else:\n",
    "        X_train_vect_avg.append(np.zeros(100, dtype=float))\n",
    "        \n",
    "X_test_vect_avg = []\n",
    "for v in [np.array([w2v_model.wv[i] for i in ls if i in words], dtype=object)\n",
    "                         for ls in X_test]:\n",
    "    if v.size:\n",
    "        X_test_vect_avg.append(v.mean(axis=0))\n",
    "    else:\n",
    "        X_test_vect_avg.append(np.zeros(100, dtype=float))"
   ]
  },
  {
   "cell_type": "code",
   "execution_count": 119,
   "id": "4ab9db5b",
   "metadata": {},
   "outputs": [],
   "source": [
    "from sklearn.ensemble import RandomForestClassifier\n",
    "rf = RandomForestClassifier()\n",
    "rf_model = rf.fit(X_train_vect_avg, y_train.values.ravel())"
   ]
  },
  {
   "cell_type": "code",
   "execution_count": 120,
   "id": "8f6daad3",
   "metadata": {},
   "outputs": [],
   "source": [
    "y_pred_rf = rf_model.predict(X_test_vect_avg)"
   ]
  },
  {
   "cell_type": "code",
   "execution_count": 121,
   "id": "9dbf2ac7",
   "metadata": {},
   "outputs": [
    {
     "name": "stdout",
     "output_type": "stream",
     "text": [
      "Precision: 0.444 / Recall: 0.444 / Accuracy: 0.444\n"
     ]
    }
   ],
   "source": [
    "y_pred = y_pred_rf\n",
    "from sklearn.metrics import precision_score, recall_score\n",
    "precision = precision_score(y_test, y_pred, average='micro')\n",
    "recall = recall_score(y_test, y_pred, average='micro')\n",
    "print('Precision: {} / Recall: {} / Accuracy: {}'.format(\n",
    "    round(precision, 3), round(recall, 3), round((y_pred==y_test).sum()/len(y_pred), 3)))"
   ]
  },
  {
   "cell_type": "code",
   "execution_count": null,
   "id": "27c4a574-2e3c-45e6-96f3-065d293301ba",
   "metadata": {},
   "outputs": [],
   "source": []
  }
 ],
 "metadata": {
  "kernelspec": {
   "display_name": "Python 3 (ipykernel)",
   "language": "python",
   "name": "python3"
  },
  "language_info": {
   "codemirror_mode": {
    "name": "ipython",
    "version": 3
   },
   "file_extension": ".py",
   "mimetype": "text/x-python",
   "name": "python",
   "nbconvert_exporter": "python",
   "pygments_lexer": "ipython3",
   "version": "3.8.18"
  }
 },
 "nbformat": 4,
 "nbformat_minor": 5
}
